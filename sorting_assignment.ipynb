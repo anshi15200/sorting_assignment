{
  "nbformat": 4,
  "nbformat_minor": 0,
  "metadata": {
    "colab": {
      "provenance": []
    },
    "kernelspec": {
      "name": "python3",
      "display_name": "Python 3"
    },
    "language_info": {
      "name": "python"
    }
  },
  "cells": [
    {
      "cell_type": "markdown",
      "source": [
        "Problem 1.Given an array of n numbers, give an algorithm which gives the element appearing maximum\n",
        "number of times?"
      ],
      "metadata": {
        "id": "nv7eyyWVHDAT"
      }
    },
    {
      "cell_type": "code",
      "execution_count": null,
      "metadata": {
        "id": "4isKEj3LGZ4l",
        "colab": {
          "base_uri": "https://localhost:8080/"
        },
        "outputId": "25e4e61f-0541-4d67-cef7-07ed5398e6e5"
      },
      "outputs": [
        {
          "output_type": "stream",
          "name": "stdout",
          "text": [
            "Element with maximum occurrence: 5\n"
          ]
        }
      ],
      "source": [
        "def maximum_count(arr):\n",
        "  number=None\n",
        "  count=0\n",
        "  for i in arr:\n",
        "    if count==0:\n",
        "      number=i\n",
        "      count=1\n",
        "    elif i == number:\n",
        "      count += 1\n",
        "    else:\n",
        "      count -= 1\n",
        "\n",
        "  return number\n",
        "arr = [1, 3, 5, 3, 3, 7, 5, 5, 5]\n",
        "print(\"Element with maximum occurrence:\", maximum_count(arr))\n",
        "\n",
        "\n"
      ]
    },
    {
      "cell_type": "markdown",
      "source": [
        "Problem 2 : We are given a list of n-1 integers and these integers are in the range of 1 to n . There are no\n",
        "duplicates in the list. One of the integers is missing in the list. Give an algorithm to find that element Ex:\n",
        "[1,2,4,6,3,7,8] 5 is the missing num."
      ],
      "metadata": {
        "id": "J3sfZpbkNbRL"
      }
    },
    {
      "cell_type": "code",
      "source": [
        "def missing_number(arr):\n",
        "  arr.sort()\n",
        "  for i in range(len(arr)-1):\n",
        "    if arr[i]+1==arr[i+1]:\n",
        "      i+=1\n",
        "    else:\n",
        "      return arr[i]+1\n",
        "  return arr[-1] + 1\n",
        "arr= [1,2,4,6,3,7,8]\n",
        "print(\"The missing number is\",missing_number(arr))"
      ],
      "metadata": {
        "colab": {
          "base_uri": "https://localhost:8080/"
        },
        "id": "deOuOuxTLCm0",
        "outputId": "4d6714f4-cc3e-4e42-a785-fedbd7f98533"
      },
      "execution_count": null,
      "outputs": [
        {
          "output_type": "stream",
          "name": "stdout",
          "text": [
            "The missing number is 5\n"
          ]
        }
      ]
    },
    {
      "cell_type": "markdown",
      "source": [
        "Problem 3 : Given an array of n positive numbers. All numbers occurs even number of times except 1 which\n",
        "occurs odd number of times. Find that number in O(n) time and O(1) space. Ex: [1,2,3,2,3,1,3]. 3 is repeats odd\n",
        "times."
      ],
      "metadata": {
        "id": "1SayFcj-R40f"
      }
    },
    {
      "cell_type": "code",
      "source": [
        "def find_odd_occurrence(arr):\n",
        "    result = 0\n",
        "    for num in arr:\n",
        "        result ^= num\n",
        "    return result\n",
        "arr=[1,2,3,2,3,1,3]\n",
        "print(find_odd_occurrence(arr))"
      ],
      "metadata": {
        "id": "_gEzRA1tRDo9",
        "colab": {
          "base_uri": "https://localhost:8080/"
        },
        "outputId": "5b24b8a2-41b1-40a8-9b57-62f45e42b75e"
      },
      "execution_count": 7,
      "outputs": [
        {
          "output_type": "stream",
          "name": "stdout",
          "text": [
            "3\n"
          ]
        }
      ]
    },
    {
      "cell_type": "markdown",
      "source": [
        "Problem 4 : Given an array of n elements. Find two elements in the array such that their sum is equal to given\n",
        "element K."
      ],
      "metadata": {
        "id": "-WuYT_cNSvYm"
      }
    },
    {
      "cell_type": "code",
      "source": [
        "def find_sum(arr):\n",
        "  k=int(input(\"enter a number \"))\n",
        "  for i in range(len(arr)-1):\n",
        "    for j in range(i):\n",
        "      if arr[i]+arr[j]==k:\n",
        "        return arr[i],arr[j]\n",
        "  return None\n",
        "arr=[1,2,5,3,4,6,7,9,8]\n",
        "print(\"the numbers are\",find_sum(arr))"
      ],
      "metadata": {
        "colab": {
          "base_uri": "https://localhost:8080/"
        },
        "id": "WtjptPmoSx-T",
        "outputId": "fe137e7f-dd6d-40e2-f75f-60d1d3f0421b"
      },
      "execution_count": null,
      "outputs": [
        {
          "output_type": "stream",
          "name": "stdout",
          "text": [
            "enter a number 8\n",
            "the numbers are (3, 5)\n"
          ]
        }
      ]
    },
    {
      "cell_type": "markdown",
      "source": [
        "Problem 5 : Given an array of both positive and negative numbers, find two numbers such that their sum is\n",
        "closest to 0. Ex: [ 1 ,60 ,-10, 70, -80,85]. Ans : -80,85."
      ],
      "metadata": {
        "id": "bNowFp48UDfA"
      }
    },
    {
      "cell_type": "code",
      "source": [
        "def zero_sum(arr):\n",
        "  closest_sum = float('inf')\n",
        "  closest_pair = None\n",
        "  for i in range(len(arr)-1):\n",
        "    for j in range(i+1,len(arr)):\n",
        "      current_sum = arr[i] + arr[j]\n",
        "      if abs(arr[i]+arr[j])<abs(closest_sum):\n",
        "        closest_sum = current_sum\n",
        "        closest_pair = (arr[i], arr[j])\n",
        "  return closest_pair\n",
        "\n",
        "arr=[ 1 ,60 ,-10, 70,-80,85]\n",
        "print(zero_sum(arr))"
      ],
      "metadata": {
        "colab": {
          "base_uri": "https://localhost:8080/"
        },
        "id": "6Ul3MZfrTkev",
        "outputId": "d4084e22-2d29-4fb0-ef82-54714ba93064"
      },
      "execution_count": null,
      "outputs": [
        {
          "output_type": "stream",
          "name": "stdout",
          "text": [
            "(-80, 85)\n"
          ]
        }
      ]
    },
    {
      "cell_type": "markdown",
      "source": [
        "Problem 6 : Given an array of n elements . Find three elements such that their sum is equal to the given\n",
        "number."
      ],
      "metadata": {
        "id": "MUEt3RLEZjDt"
      }
    },
    {
      "cell_type": "code",
      "source": [
        "def find_sum(arr):\n",
        "  a=int(input(\"enter a number \"))\n",
        "  for i in range(len(arr)-1):\n",
        "    for j in range(i):\n",
        "      for k in range(j):\n",
        "        if arr[i]+arr[j]+arr[k]==a:\n",
        "          return arr[i],arr[j],arr[k]\n",
        "  return None\n",
        "arr=[1,2,5,3,4,6,7,9,8]\n",
        "print(\"the numbers are\",find_sum(arr))"
      ],
      "metadata": {
        "colab": {
          "base_uri": "https://localhost:8080/"
        },
        "id": "GdgCZ1_LXUJd",
        "outputId": "1ac6a106-6f0d-4697-c1e0-54fc01d23c4e"
      },
      "execution_count": null,
      "outputs": [
        {
          "output_type": "stream",
          "name": "stdout",
          "text": [
            "enter a number 8\n",
            "the numbers are (5, 2, 1)\n"
          ]
        }
      ]
    },
    {
      "cell_type": "markdown",
      "source": [
        "Problem 7 : Given an array of n elements . Find three elements i, j, k in the array such that\n",
        "i * i + j * j = k*k."
      ],
      "metadata": {
        "id": "Rs0rJ7lUag6k"
      }
    },
    {
      "cell_type": "code",
      "source": [
        "def find_number(arr):\n",
        "  for i in range(len(arr)-1):\n",
        "    for j in range(i+1,len(arr)):\n",
        "      for k in range(j+1,len(arr)):\n",
        "        if arr[i]*arr[i] + arr[j] *arr[j]== arr[k]*arr[k] :\n",
        "          return arr[i],arr[j],arr[k]\n",
        "\n",
        "arr=[3,4,5,7,15,12,13,24,25,15,17,40,41]\n",
        "print(\"the numbers are\",find_number(arr))"
      ],
      "metadata": {
        "colab": {
          "base_uri": "https://localhost:8080/"
        },
        "id": "FArHkEQ9a5UE",
        "outputId": "a563f21f-5a30-4deb-d85b-b60863dbcd2d"
      },
      "execution_count": null,
      "outputs": [
        {
          "output_type": "stream",
          "name": "stdout",
          "text": [
            "the numbers are (3, 4, 5)\n"
          ]
        }
      ]
    },
    {
      "cell_type": "markdown",
      "source": [
        "Problem 8 : An element is a majority if it appears more than n/2 times. Give an algorithm takes an array of n\n",
        "element as argument and identifies a majority (if it exists)."
      ],
      "metadata": {
        "id": "Zo8q_58CdR9c"
      }
    },
    {
      "cell_type": "code",
      "source": [
        "def majority_num(arr):\n",
        "  number=None\n",
        "  count=0\n",
        "  for i in arr:\n",
        "    if count==0:\n",
        "      number=i\n",
        "      count=1\n",
        "    elif i == number:\n",
        "      count += 1\n",
        "    else:\n",
        "      count -= 1\n",
        "      count = 0\n",
        "  for i in arr:\n",
        "      if i == number:\n",
        "          count += 1\n",
        "  if count > len(arr) // 2:\n",
        "      return number\n",
        "  else:\n",
        "      return None\n",
        "arr = [3, 3, 4, 2, 4, 4, 2, 4, 4]\n",
        "print(majority_num(arr))"
      ],
      "metadata": {
        "id": "XT1aZqO0dMaz",
        "colab": {
          "base_uri": "https://localhost:8080/"
        },
        "outputId": "38984af9-9cc9-408f-8813-c396d0432546"
      },
      "execution_count": 5,
      "outputs": [
        {
          "output_type": "stream",
          "name": "stdout",
          "text": [
            "4\n"
          ]
        }
      ]
    },
    {
      "cell_type": "markdown",
      "source": [
        "Problem 10 : Sort an array of 0’s, 1’s and 2’s [or R’s, G’s and B’s]: Given an array A[] consisting of 0’s, 1’s and\n",
        "2’s, give an algorithm for sorting A[].The algorithm should put all 0’s first, then all 1’s and finally all 2’s at the\n",
        "end. Example Input = {0,1,1,0,1,2,1,2,0,0,0,1}, Output = {0,0,0,0,0,1,1,1,1,1,2,2}\n"
      ],
      "metadata": {
        "id": "LjQrc4FRZW-u"
      }
    },
    {
      "cell_type": "code",
      "source": [
        "def sort_digits(arr):\n",
        "    low = 0\n",
        "    mid = 0\n",
        "    high = len(arr) - 1\n",
        "    while mid <= high:\n",
        "        if arr[mid] == 0:\n",
        "            arr[low], arr[mid] = arr[mid], arr[low]\n",
        "            low += 1\n",
        "            mid += 1\n",
        "        elif arr[mid] == 1:\n",
        "            mid += 1\n",
        "        else:\n",
        "            arr[mid], arr[high] = arr[high], arr[mid]\n",
        "            high -= 1\n",
        "\n",
        "    return arr\n",
        "arr = [0, 1, 1, 0, 1, 2, 1, 2, 0, 0, 0, 1]\n",
        "sorted_arr = sort_digits(arr)\n",
        "print(sorted_arr)\n"
      ],
      "metadata": {
        "colab": {
          "base_uri": "https://localhost:8080/"
        },
        "id": "NIXF14ubZtKJ",
        "outputId": "21cfd012-1f88-4f84-f44c-7c429c890674"
      },
      "execution_count": 1,
      "outputs": [
        {
          "output_type": "stream",
          "name": "stdout",
          "text": [
            "[0, 0, 0, 0, 0, 1, 1, 1, 1, 1, 2, 2]\n"
          ]
        }
      ]
    }
  ]
}